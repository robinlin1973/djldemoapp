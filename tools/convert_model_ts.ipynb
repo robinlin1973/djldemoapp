{
 "cells": [
  {
   "cell_type": "code",
   "execution_count": null,
   "id": "2cafda5a",
   "metadata": {},
   "outputs": [],
   "source": [
    "import torch\n",
    "from torchvision.models import resnet18\n",
    "\n",
    "m = resnet18(weights=\"IMAGENET1K_V1\").eval()\n",
    "example = torch.randn(1, 3, 224, 224)\n",
    "ts = torch.jit.trace(m, example)\n",
    "ts.save(\"../src/main/resources/model/resnet18.pt\")"
   ]
  }
 ],
 "metadata": {
  "kernelspec": {
   "display_name": "py312torch",
   "language": "python",
   "name": "python3"
  },
  "language_info": {
   "codemirror_mode": {
    "name": "ipython",
    "version": 3
   },
   "file_extension": ".py",
   "mimetype": "text/x-python",
   "name": "python",
   "nbconvert_exporter": "python",
   "pygments_lexer": "ipython3",
   "version": "3.12.11"
  }
 },
 "nbformat": 4,
 "nbformat_minor": 5
}
